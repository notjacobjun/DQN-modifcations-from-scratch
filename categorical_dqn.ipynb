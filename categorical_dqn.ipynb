{
  "cells": [
    {
      "cell_type": "markdown",
      "metadata": {
        "id": "9LeFCwivnhnj"
      },
      "source": [
        "## Configurations for Colab"
      ]
    },
    {
      "cell_type": "code",
      "execution_count": 5,
      "metadata": {
        "id": "2xYpASaZnhno",
        "colab": {
          "base_uri": "https://localhost:8080/"
        },
        "outputId": "e89df2a7-c4d1-4aee-f69b-e772ce74f54c"
      },
      "outputs": [
        {
          "output_type": "stream",
          "name": "stdout",
          "text": [
            "Reading package lists... Done\n",
            "Building dependency tree       \n",
            "Reading state information... Done\n",
            "python-opengl is already the newest version (3.1.0+dfsg-2build1).\n",
            "0 upgraded, 0 newly installed, 0 to remove and 23 not upgraded.\n",
            "Reading package lists... Done\n",
            "Building dependency tree       \n",
            "Reading state information... Done\n",
            "ffmpeg is already the newest version (7:4.2.7-0ubuntu0.1).\n",
            "0 upgraded, 0 newly installed, 0 to remove and 23 not upgraded.\n",
            "Reading package lists... Done\n",
            "Building dependency tree       \n",
            "Reading state information... Done\n",
            "xvfb is already the newest version (2:1.20.13-1ubuntu1~20.04.5).\n",
            "0 upgraded, 0 newly installed, 0 to remove and 23 not upgraded.\n",
            "Looking in indexes: https://pypi.org/simple, https://us-python.pkg.dev/colab-wheels/public/simple/\n",
            "Requirement already satisfied: PyVirtualDisplay==3.0 in /usr/local/lib/python3.8/dist-packages (3.0)\n",
            "Looking in indexes: https://pypi.org/simple, https://us-python.pkg.dev/colab-wheels/public/simple/\n",
            "Requirement already satisfied: gym==0.21.0 in /usr/local/lib/python3.8/dist-packages (0.21.0)\n",
            "Requirement already satisfied: numpy>=1.18.0 in /usr/local/lib/python3.8/dist-packages (from gym==0.21.0) (1.21.6)\n",
            "Requirement already satisfied: cloudpickle>=1.2.0 in /usr/local/lib/python3.8/dist-packages (from gym==0.21.0) (2.2.0)\n"
          ]
        }
      ],
      "source": [
        "import sys\n",
        "IN_COLAB = \"google.colab\" in sys.modules\n",
        "\n",
        "if IN_COLAB:\n",
        "    !apt install python-opengl\n",
        "    !apt install ffmpeg\n",
        "    !apt install xvfb\n",
        "    !pip install PyVirtualDisplay==3.0\n",
        "    !pip install gym==0.21.0\n",
        "    from pyvirtualdisplay import Display\n",
        "    \n",
        "    # Start virtual display\n",
        "    dis = Display(visible=0, size=(400, 400))\n",
        "    dis.start()"
      ]
    },
    {
      "cell_type": "markdown",
      "metadata": {
        "id": "29h_Qq7Inhnr"
      },
      "source": [
        "# 06. Categorical DQN\n",
        "\n",
        "[M. G. Bellemare et al., \"A Distributional Perspective on Reinforcement Learning.\" arXiv preprint arXiv:1707.06887, 2017.](https://arxiv.org/pdf/1707.06887.pdf)\n",
        "\n",
        "\n",
        "The authors argued the importance of learning the distribution of returns instead of the expected return, and they proposed to model such distributions with probability masses placed on a discrete support $z$, where $z$ is a vector with $N_{atoms} \\in \\mathbb{N}^+$ atoms, defined by $z_i = V_{min} + (i-1) \\frac{V_{max} - V_{min}}{N-1}$ for $i \\in \\{1, ..., N_{atoms}\\}$.\n",
        "\n",
        "The key insight is that return distributions satisfy a variant of Bellman’s equation. For a given state $S_t$ and action $A_t$, the distribution of the returns under the optimal policy $\\pi^{*}$ should match a target distribution defined by taking the distribution for the next state $S_{t+1}$ and action $a^{*}_{t+1} = \\pi^{*}(S_{t+1})$, contracting\n",
        "it towards zero according to the discount, and shifting it by the reward (or distribution of rewards, in the stochastic case). A distributional variant of Q-learning is then derived by first constructing a new support for the target distribution, and then minimizing the Kullbeck-Leibler divergence between the distribution $d_t$ and the target distribution\n",
        "\n",
        "$$\n",
        "d_t' = (R_{t+1} + \\gamma_{t+1} z, p_\\hat{{\\theta}} (S_{t+1}, \\hat{a}^{*}_{t+1})),\\\\\n",
        "D_{KL} (\\phi_z d_t' \\| d_t).\n",
        "$$\n",
        "\n",
        "Here $\\phi_z$ is a L2-projection of the target distribution onto the fixed support $z$, and $\\hat{a}^*_{t+1} = \\arg\\max_{a} q_{\\hat{\\theta}} (S_{t+1}, a)$ is the greedy action with respect to the mean action values $q_{\\hat{\\theta}} (S_{t+1}, a) = z^{T}p_{\\theta}(S_{t+1}, a)$ in state $S_{t+1}$."
      ]
    },
    {
      "cell_type": "code",
      "execution_count": 6,
      "metadata": {
        "id": "-aisjJiLnhns"
      },
      "outputs": [],
      "source": [
        "import os\n",
        "from typing import Dict, List, Tuple\n",
        "\n",
        "import gym\n",
        "import matplotlib.pyplot as plt\n",
        "import numpy as np\n",
        "import torch\n",
        "import torch.nn as nn\n",
        "import torch.nn.functional as F\n",
        "import torch.optim as optim\n",
        "from IPython.display import clear_output"
      ]
    },
    {
      "cell_type": "markdown",
      "metadata": {
        "id": "8XlXxraLnhnt"
      },
      "source": [
        "## Replay buffer\n",
        "\n",
        "Please see *01.dqn.ipynb* for detailed description."
      ]
    },
    {
      "cell_type": "code",
      "execution_count": 7,
      "metadata": {
        "id": "ZnlZzH88nhnt"
      },
      "outputs": [],
      "source": [
        "class ReplayBuffer:\n",
        "    \"\"\"A simple numpy replay buffer.\"\"\"\n",
        "\n",
        "    def __init__(self, obs_dim: int, size: int, batch_size: int = 32):\n",
        "        self.obs_buf = np.zeros([size, obs_dim], dtype=np.float32)\n",
        "        self.next_obs_buf = np.zeros([size, obs_dim], dtype=np.float32)\n",
        "        self.acts_buf = np.zeros([size], dtype=np.float32)\n",
        "        self.rews_buf = np.zeros([size], dtype=np.float32)\n",
        "        self.done_buf = np.zeros(size, dtype=np.float32)\n",
        "        self.max_size, self.batch_size = size, batch_size\n",
        "        self.ptr, self.size, = 0, 0\n",
        "\n",
        "    def store(\n",
        "        self, \n",
        "        obs: np.ndarray, \n",
        "        act: np.ndarray, \n",
        "        rew: float, \n",
        "        next_obs: np.ndarray, \n",
        "        done: bool,\n",
        "    ):\n",
        "        self.obs_buf[self.ptr] = obs\n",
        "        self.next_obs_buf[self.ptr] = next_obs\n",
        "        self.acts_buf[self.ptr] = act\n",
        "        self.rews_buf[self.ptr] = rew\n",
        "        self.done_buf[self.ptr] = done\n",
        "        self.ptr = (self.ptr + 1) % self.max_size\n",
        "        self.size = min(self.size + 1, self.max_size)\n",
        "\n",
        "    def sample_batch(self) -> Dict[str, np.ndarray]:\n",
        "        idxs = np.random.choice(self.size, size=self.batch_size, replace=False)\n",
        "        return dict(obs=self.obs_buf[idxs],\n",
        "                    next_obs=self.next_obs_buf[idxs],\n",
        "                    acts=self.acts_buf[idxs],\n",
        "                    rews=self.rews_buf[idxs],\n",
        "                    done=self.done_buf[idxs])\n",
        "\n",
        "    def __len__(self) -> int:\n",
        "        return self.size"
      ]
    },
    {
      "cell_type": "code",
      "execution_count": 8,
      "metadata": {
        "id": "3_s6zOXRnhnu"
      },
      "outputs": [],
      "source": [
        "class Network(nn.Module):\n",
        "    def __init__(\n",
        "        self, \n",
        "        in_dim: int, \n",
        "        out_dim: int, \n",
        "        atom_size: int, \n",
        "        support: torch.Tensor\n",
        "    ):\n",
        "        \"\"\"Initialization.\"\"\"\n",
        "        super(Network, self).__init__()\n",
        "\n",
        "        self.support = support\n",
        "        self.atom_size = atom_size\n",
        "        self.out_dim = out_dim\n",
        "\n",
        "        self.layers = nn.Sequential(\n",
        "            nn.Linear(in_dim, 128),\n",
        "            nn.ReLU(),\n",
        "            nn.Linear(128, 128),\n",
        "            nn.ReLU(),\n",
        "            nn.Linear(128, out_dim * atom_size)\n",
        "        )\n",
        "\n",
        "    def forward(self, x: torch.Tensor) -> torch.Tensor:\n",
        "        \"\"\"Forward method implementation.\"\"\"\n",
        "        dist = self.dist(x)\n",
        "\n",
        "        q = torch.sum(dist * self.support, dim=2)\n",
        "        return q\n",
        "    \n",
        "    def dist(self, x: torch.Tensor) -> torch.Tensor:\n",
        "        \"\"\"Get distribution for atoms.\"\"\"\n",
        "        # NOTE that this is where a lot of magic for C51 happens\n",
        "        q_atoms = self.layers(x).view(-1, self.out_dim, self.atom_size)\n",
        "        # apply softmax independently for each action dimension to ensure proper normalization\n",
        "        dist = F.softmax(q_atoms, dim=-1)\n",
        "        # we are clamping below to avoid nan's\n",
        "        dist = dist.clamp(min=1e-3)\n",
        "\n",
        "        return dist"
      ]
    },
    {
      "cell_type": "markdown",
      "metadata": {
        "id": "2CScCGntnhnv"
      },
      "source": [
        "## Categorical DQN Agent\n",
        "\n",
        "\n",
        "Here is a summary of DQNAgent class.\n",
        "\n",
        "| Method           | Note                                                 |\n",
        "| ---              | ---                                                  |\n",
        "|select_action     | select an action from the input state.               |\n",
        "|step              | take an action and return the response of the env.   |\n",
        "|compute_dqn_loss  | return dqn loss.                                     |\n",
        "|update_model      | update the model by gradient descent.                |\n",
        "|target_hard_update| hard update from the local model to the target model.|\n",
        "|train             | train the agent during num_frames.                   |\n",
        "|test              | test the agent (1 episode).                          |\n",
        "|plot              | plot the training progresses.                        |\n",
        "\n",
        "All differences from pure DQN are noted with comments *Categorical DQN*."
      ]
    },
    {
      "cell_type": "code",
      "execution_count": 9,
      "metadata": {
        "id": "cw90CGwgnhnv"
      },
      "outputs": [],
      "source": [
        "class DQNAgent:\n",
        "    \"\"\"DQN Agent interacting with environment.\n",
        "    \n",
        "    Attribute:\n",
        "        env (gym.Env): openAI Gym environment\n",
        "        memory (ReplayBuffer): replay memory to store transitions\n",
        "        batch_size (int): batch size for sampling\n",
        "        epsilon (float): parameter for epsilon greedy policy\n",
        "        epsilon_decay (float): step size to decrease epsilon\n",
        "        max_epsilon (float): max value of epsilon\n",
        "        min_epsilon (float): min value of epsilon\n",
        "        target_update (int): period for target model's hard update\n",
        "        gamma (float): discount factor\n",
        "        dqn (Network): model to train and select actions\n",
        "        dqn_target (Network): target model to update\n",
        "        optimizer (torch.optim): optimizer for training dqn\n",
        "        transition (list): transition information including\n",
        "                           state, action, reward, next_state, done\n",
        "        v_min (float): min value of support\n",
        "        v_max (float): max value of support\n",
        "        atom_size (int): the unit number of support\n",
        "        support (torch.Tensor): support for categorical dqn\n",
        "    \"\"\"\n",
        "\n",
        "    def __init__(\n",
        "        self, \n",
        "        env: gym.Env,\n",
        "        memory_size: int,\n",
        "        batch_size: int,\n",
        "        target_update: int,\n",
        "        epsilon_decay: float,\n",
        "        max_epsilon: float = 1.0,\n",
        "        min_epsilon: float = 0.1,\n",
        "        gamma: float = 0.99,\n",
        "        # Categorical DQN parameters\n",
        "        v_min: float = 0.0,\n",
        "        v_max: float = 200.0,\n",
        "        atom_size: int = 51,\n",
        "    ):\n",
        "        \"\"\"Initialization.\n",
        "        \n",
        "        Args:\n",
        "            env (gym.Env): openAI Gym environment\n",
        "            memory_size (int): length of memory\n",
        "            batch_size (int): batch size for sampling\n",
        "            target_update (int): period for target model's hard update\n",
        "            epsilon_decay (float): step size to decrease epsilon\n",
        "            lr (float): learning rate\n",
        "            max_epsilon (float): max value of epsilon\n",
        "            min_epsilon (float): min value of epsilon\n",
        "            gamma (float): discount factor\n",
        "            v_min (float): min value of support\n",
        "            v_max (float): max value of support\n",
        "            atom_size (int): the unit number of support\n",
        "        \"\"\"\n",
        "        obs_dim = env.observation_space.shape[0]\n",
        "        action_dim = env.action_space.n\n",
        "\n",
        "        self.env = env\n",
        "        self.memory = ReplayBuffer(obs_dim, memory_size, batch_size)\n",
        "        self.batch_size = batch_size\n",
        "        self.epsilon = max_epsilon\n",
        "        self.epsilon_decay = epsilon_decay\n",
        "        self.max_epsilon = max_epsilon\n",
        "        self.min_epsilon = min_epsilon\n",
        "        self.target_update = target_update\n",
        "        self.gamma = gamma\n",
        "        \n",
        "        # device: cpu / gpu\n",
        "        self.device = torch.device(\"cuda\" if torch.cuda.is_available() else \"cpu\")\n",
        "        print(self.device)\n",
        "\n",
        "        # NOTE Categorical DQN parameters setup here\n",
        "        self.v_min = v_min\n",
        "        self.v_max = v_max\n",
        "        self.atom_size = atom_size\n",
        "        self.support = torch.linspace(self.v_min, self.v_max, self.atom_size).to(self.device)\n",
        "\n",
        "        # initialize the network architecture\n",
        "        # networks: dqn, dqn_target\n",
        "        self.dqn = Network(\n",
        "            obs_dim, action_dim, atom_size, self.support\n",
        "        ).to(self.device)\n",
        "        self.dqn_target = Network(\n",
        "            obs_dim, action_dim, atom_size, self.support\n",
        "        ).to(self.device)\n",
        "        self.dqn_target.load_state_dict(self.dqn.state_dict())\n",
        "        self.dqn_target.eval()\n",
        "\n",
        "        # optimizer setup\n",
        "        self.optimizer = optim.Adam(self.dqn.parameters())\n",
        "\n",
        "        # transition to store in memory\n",
        "        self.transition = list()\n",
        "        # mode: train / test\n",
        "        self.is_test = False\n",
        "\n",
        "    def select_action(self, state: np.ndarray) -> np.ndarray:\n",
        "        \"\"\"Select an action from the input state.\"\"\"\n",
        "        # epsilon greedy policy\n",
        "        if self.epsilon > np.random.random():\n",
        "            selected_action = self.env.action_space.sample()\n",
        "        else:\n",
        "            selected_action = self.dqn(torch.FloatTensor(state).to(self.device),).argmax()\n",
        "            selected_action = selected_action.detach().cpu().numpy()\n",
        "        \n",
        "        if not self.is_test:\n",
        "            self.transition = [state, selected_action]\n",
        "        \n",
        "        return selected_action\n",
        "\n",
        "    def step(self, action: np.ndarray) -> Tuple[np.ndarray, np.float64, bool]:\n",
        "        \"\"\"Take an action and return the response of the env.\"\"\"\n",
        "        # take the action\n",
        "        next_state, reward, done, _ = self.env.step(action)\n",
        "\n",
        "        # check if we are not in test mode, if not then store the transition\n",
        "        if not self.is_test:\n",
        "            self.transition += [reward, next_state, done]\n",
        "            self.memory.store(*self.transition)\n",
        "    \n",
        "        return next_state, reward, done\n",
        "\n",
        "    def update_model(self) -> torch.Tensor:\n",
        "        \"\"\"Update the model by gradient descent.\"\"\"\n",
        "        # sample a batch of transitions\n",
        "        samples = self.memory.sample_batch()\n",
        "\n",
        "        # compute the loss\n",
        "        loss = self._compute_dqn_loss(samples)\n",
        "\n",
        "        # clear the gradient\n",
        "        self.optimizer.zero_grad()\n",
        "        loss.backward()\n",
        "        self.optimizer.step()\n",
        "\n",
        "        return loss.item()\n",
        "        \n",
        "    def train(self, num_frames: int, plotting_interval: int = 200):\n",
        "        \"\"\"Train the agent.\"\"\"\n",
        "        self.is_test = False\n",
        "\n",
        "        # initialize the state for this episode\n",
        "        state = self.env.reset()\n",
        "        update_cnt = 0\n",
        "        epsilons, losses, scores = [], [], []\n",
        "        score = 0\n",
        "\n",
        "        for frame_idx in range(1, num_frames + 1):\n",
        "            action = self.select_action(state)\n",
        "            next_state, reward, done = self.step(action)\n",
        "\n",
        "            state = next_state\n",
        "            score += reward\n",
        "\n",
        "            # if episode ends\n",
        "            if done:\n",
        "                state = self.env.reset()\n",
        "                scores.append(score)\n",
        "                score = 0\n",
        "\n",
        "            # if training is ready\n",
        "            if len(self.memory) >= self.batch_size:\n",
        "                loss = self.update_model()\n",
        "                losses.append(loss)\n",
        "                update_cnt += 1\n",
        "                \n",
        "                # linearly decrease epsilon\n",
        "                self.epsilon = max(self.min_epsilon, self.epsilon - (self.max_epsilon - self.min_epsilon) * self.epsilon_decay)\n",
        "                epsilons.append(self.epsilon)\n",
        "                \n",
        "                # if hard update is needed\n",
        "                if update_cnt % self.target_update == 0:\n",
        "                    self._target_hard_update()\n",
        "\n",
        "            # plotting\n",
        "            if frame_idx % plotting_interval == 0:\n",
        "                self._plot(frame_idx, scores, losses, epsilons)\n",
        "                \n",
        "        self.env.close()\n",
        "\n",
        "    def test(self, video_folder: str) -> None:\n",
        "        \"\"\"Test the agent.\"\"\"\n",
        "        self.is_test = True\n",
        "        \n",
        "        # for recording a video\n",
        "        naive_env = self.env\n",
        "        self.env = gym.wrappers.RecordVideo(self.env, video_folder=video_folder)\n",
        "        \n",
        "        state = self.env.reset()\n",
        "        done = False\n",
        "        score = 0\n",
        "        \n",
        "        while not done:\n",
        "            action = self.select_action(state)\n",
        "            next_state, reward, done = self.step(action)\n",
        "\n",
        "            state = next_state\n",
        "            score += reward\n",
        "        \n",
        "        print(\"score: \", score)\n",
        "        self.env.close()\n",
        "        \n",
        "        # reset\n",
        "        self.env = naive_env\n",
        "\n",
        "    def _compute_dqn_loss(self, samples: Dict[str, np.ndarray]) -> torch.Tensor:\n",
        "        # standard setup for pytorch tensors\n",
        "        device = self.device  # for shortening the following lines\n",
        "        state = torch.FloatTensor(samples[\"obs\"]).to(device)\n",
        "        next_state = torch.FloatTensor(samples[\"next_obs\"]).to(device)\n",
        "        action = torch.LongTensor(samples[\"acts\"]).to(device)\n",
        "        reward = torch.FloatTensor(samples[\"rews\"].reshape(-1, 1)).to(device)\n",
        "        done = torch.FloatTensor(samples[\"done\"].reshape(-1, 1)).to(device)\n",
        "        \n",
        "        # calculate the delta_z for the distribution\n",
        "        delta_z = float(self.v_max - self.v_min) / (self.atom_size - 1)\n",
        "\n",
        "        # calculate the loss of the current state\n",
        "        with torch.no_grad():\n",
        "            # use the target network to calculate the next state's action\n",
        "            next_action = self.dqn_target(next_state).argmax(1)\n",
        "            # calculate the next state's distribution using the target network\n",
        "            next_dist = self.dqn_target.dist(next_state)\n",
        "            # use the next action to find out the next state's distribution\n",
        "            next_dist = next_dist[range(self.batch_size), next_action]\n",
        "\n",
        "            # calculate the t_z, b, l, and u values (look at notion notes if confused)\n",
        "            t_z = reward + (1 - done) * self.gamma * self.support\n",
        "            # applying the clamp operator to ensure that we don't go out of bounds\n",
        "            t_z = t_z.clamp(min=self.v_min, max=self.v_max)\n",
        "            b = (t_z - self.v_min) / delta_z\n",
        "            l = b.floor().long()\n",
        "            u = b.ceil().long()\n",
        "\n",
        "            # calculate the offset\n",
        "            offset = (\n",
        "                torch.linspace(\n",
        "                    0, (self.batch_size - 1) * self.atom_size, self.batch_size).long()\n",
        "                .unsqueeze(1)\n",
        "                .expand(self.batch_size, self.atom_size)\n",
        "                .to(self.device))\n",
        "\n",
        "            # calculate the projection of the next state's distribution\n",
        "            proj_dist = torch.zeros(next_dist.size(), device=self.device)\n",
        "            # adding the modified next_dist to the 0th index of the proj_dist (distribute probability of t_z step in the pseudocode)\n",
        "            proj_dist.view(-1).index_add_(0, (l + offset).view(-1), (next_dist * (u.float() - b)).view(-1))\n",
        "            proj_dist.view(-1).index_add_(0, (u + offset).view(-1), (next_dist * (b - l.float())).view(-1))\n",
        "\n",
        "        dist = self.dqn.dist(state)\n",
        "        log_p = torch.log(dist[range(self.batch_size), action])\n",
        "\n",
        "        loss = -(proj_dist * log_p).sum(1).mean()\n",
        "\n",
        "        return loss\n",
        "\n",
        "    def _target_hard_update(self):\n",
        "        \"\"\"Hard update: target <- local.\"\"\"\n",
        "        self.dqn_target.load_state_dict(self.dqn.state_dict())\n",
        "                \n",
        "    def _plot(\n",
        "        self, \n",
        "        frame_idx: int, \n",
        "        scores: List[float], \n",
        "        losses: List[float], \n",
        "        epsilons: List[float],\n",
        "    ):\n",
        "        \"\"\"Plot the training progresses.\"\"\"\n",
        "        clear_output(True)\n",
        "        plt.figure(figsize=(20, 5))\n",
        "        plt.subplot(131)\n",
        "        plt.title('frame %s. score: %s' % (frame_idx, np.mean(scores[-10:])))\n",
        "        plt.plot(scores)\n",
        "        plt.subplot(132)\n",
        "        plt.title('loss')\n",
        "        plt.plot(losses)\n",
        "        plt.subplot(133)\n",
        "        plt.title('epsilons')\n",
        "        plt.plot(epsilons)\n",
        "        plt.show()"
      ]
    },
    {
      "cell_type": "markdown",
      "metadata": {
        "id": "MCg0MoW4nhnw"
      },
      "source": [
        "## Environment\n",
        "\n",
        "You can see the [code](https://github.com/openai/gym/blob/master/gym/envs/classic_control/cartpole.py) and [configurations](https://github.com/openai/gym/blob/master/gym/envs/__init__.py#L53) of CartPole-v0 from OpenAI's repository."
      ]
    },
    {
      "cell_type": "code",
      "execution_count": 10,
      "metadata": {
        "id": "OPsnUfNOnhnx"
      },
      "outputs": [],
      "source": [
        "# environment\n",
        "env_id = \"CartPole-v0\"\n",
        "env = gym.make(env_id)\n",
        "if IN_COLAB:\n",
        "    env = gym.wrappers.Monitor(env, \"videos\", force=True)"
      ]
    },
    {
      "cell_type": "markdown",
      "metadata": {
        "id": "J-LkBbxTnhnx"
      },
      "source": [
        "## Set random seed"
      ]
    },
    {
      "cell_type": "code",
      "execution_count": 11,
      "metadata": {
        "id": "jzi0QuH1nhnx",
        "outputId": "e45bf0a2-67c0-4306-b673-c9f1ba1d2e14",
        "colab": {
          "base_uri": "https://localhost:8080/"
        }
      },
      "outputs": [
        {
          "output_type": "execute_result",
          "data": {
            "text/plain": [
              "[777]"
            ]
          },
          "metadata": {},
          "execution_count": 11
        }
      ],
      "source": [
        "seed = 777\n",
        "\n",
        "def seed_torch(seed):\n",
        "    torch.manual_seed(seed)\n",
        "    if torch.backends.cudnn.enabled:\n",
        "        torch.backends.cudnn.benchmark = False\n",
        "        torch.backends.cudnn.deterministic = True\n",
        "\n",
        "np.random.seed(seed)\n",
        "seed_torch(seed)\n",
        "env.seed(seed)"
      ]
    },
    {
      "cell_type": "markdown",
      "metadata": {
        "id": "twce83nsnhny"
      },
      "source": [
        "## Initialize"
      ]
    },
    {
      "cell_type": "code",
      "execution_count": 12,
      "metadata": {
        "id": "jDbVf1donhny",
        "outputId": "d71102e8-adb5-4748-a067-0996d349a058",
        "colab": {
          "base_uri": "https://localhost:8080/"
        }
      },
      "outputs": [
        {
          "output_type": "stream",
          "name": "stdout",
          "text": [
            "cuda\n"
          ]
        }
      ],
      "source": [
        "# parameters\n",
        "num_frames = 20000\n",
        "memory_size = 2000\n",
        "batch_size = 32\n",
        "target_update = 200\n",
        "epsilon_decay = 1 / 2000\n",
        "\n",
        "# train\n",
        "agent = DQNAgent(env, memory_size, batch_size, target_update, epsilon_decay)"
      ]
    },
    {
      "cell_type": "markdown",
      "metadata": {
        "id": "Mnj1UHlanhn0"
      },
      "source": [
        "## Train"
      ]
    },
    {
      "cell_type": "code",
      "execution_count": 13,
      "metadata": {
        "id": "7L1qXCFRnhn0",
        "outputId": "b249ba67-e2c0-45b8-cbb7-ee19c0cc7c23",
        "colab": {
          "base_uri": "https://localhost:8080/",
          "height": 336
        }
      },
      "outputs": [
        {
          "output_type": "display_data",
          "data": {
            "text/plain": [
              "<Figure size 1440x360 with 3 Axes>"
            ],
            "image/png": "[encoded data removed]"
          },
          "metadata": {
            "needs_background": "light"
          }
        }
      ],
      "source": [
        "!pip install pyglet==1.5.27\n",
        "agent.train(num_frames)"
      ]
    },
    {
      "cell_type": "markdown",
      "metadata": {
        "id": "kgyg9H8Fnhn0"
      },
      "source": [
        "## Test\n",
        "\n",
        "Run the trained agent (1 episode)."
      ]
    },
    {
      "cell_type": "code",
      "execution_count": 14,
      "metadata": {
        "id": "7GtT31q5nhn1",
        "colab": {
          "base_uri": "https://localhost:8080/"
        },
        "outputId": "5581ab93-0469-4dc9-8061-2795bc38c176"
      },
      "outputs": [
        {
          "output_type": "stream",
          "name": "stdout",
          "text": [
            "score:  200.0\n"
          ]
        }
      ],
      "source": [
        "video_folder=\"videos/categorical_dqn\"\n",
        "agent.test(video_folder=video_folder)"
      ]
    },
    {
      "cell_type": "markdown",
      "metadata": {
        "id": "cEXAJnH_nhn1"
      },
      "source": [
        "## Render"
      ]
    },
    {
      "cell_type": "code",
      "execution_count": 15,
      "metadata": {
        "id": "NW12hLFhnhn1",
        "colab": {
          "base_uri": "https://localhost:8080/",
          "height": 279
        },
        "outputId": "9e6b6558-7352-4bd3-fe08-6c18094d5f2a"
      },
      "outputs": [
        {
          "output_type": "display_data",
          "data": {
            "text/plain": [
              "<IPython.core.display.HTML object>"
            ],
            "text/html": [
              "\n",
              "        <video width=\"320\" height=\"240\" alt=\"test\" controls>\n",
              "        <source src=\"data:video/mp4;base64,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\" type=\"video/mp4\"/>\n",
              "        </video>\n",
              "        "
            ]
          },
          "metadata": {}
        },
        {
          "output_type": "stream",
          "name": "stdout",
          "text": [
            "Played: videos/categorical_dqn/rl-video-episode-0.mp4\n"
          ]
        }
      ],
      "source": [
        "import base64\n",
        "import glob\n",
        "import io\n",
        "import os\n",
        "\n",
        "from IPython.display import HTML, display\n",
        "\n",
        "\n",
        "def ipython_show_video(path: str) -> None:\n",
        "    \"\"\"Show a video at `path` within IPython Notebook.\"\"\"\n",
        "    if not os.path.isfile(path):\n",
        "        raise NameError(\"Cannot access: {}\".format(path))\n",
        "\n",
        "    video = io.open(path, \"r+b\").read()\n",
        "    encoded = base64.b64encode(video)\n",
        "\n",
        "    display(HTML(\n",
        "        data=\"\"\"\n",
        "        <video width=\"320\" height=\"240\" alt=\"test\" controls>\n",
        "        <source src=\"data:video/mp4;base64,{0}\" type=\"video/mp4\"/>\n",
        "        </video>\n",
        "        \"\"\".format(encoded.decode(\"ascii\"))\n",
        "    ))\n",
        "\n",
        "\n",
        "def show_latest_video(video_folder: str) -> str:\n",
        "    \"\"\"Show the most recently recorded video from video folder.\"\"\"\n",
        "    list_of_files = glob.glob(os.path.join(video_folder, \"*.mp4\"))\n",
        "    latest_file = max(list_of_files, key=os.path.getctime)\n",
        "    ipython_show_video(latest_file)\n",
        "    return latest_file\n",
        "\n",
        "\n",
        "latest_file = show_latest_video(video_folder=video_folder)\n",
        "print(\"Played:\", latest_file)"
      ]
    }
  ],
  "metadata": {
    "colab": {
      "provenance": []
    },
    "kernelspec": {
      "display_name": "base",
      "language": "python",
      "name": "python3"
    },
    "language_info": {
      "codemirror_mode": {
        "name": "ipython",
        "version": 3
      },
      "file_extension": ".py",
      "mimetype": "text/x-python",
      "name": "python",
      "nbconvert_exporter": "python",
      "pygments_lexer": "ipython3",
      "version": "3.8.11 (default, Aug  6 2021, 08:56:27) \n[Clang 10.0.0 ]"
    },
    "vscode": {
      "interpreter": {
        "hash": "444e054df59c75cf35a3ce3c9807b4242f0ba18f08834ba5e1e088781c2ff431"
      }
    },
    "accelerator": "GPU",
    "gpuClass": "standard"
  },
  "nbformat": 4,
  "nbformat_minor": 0
}